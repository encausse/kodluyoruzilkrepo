{
 "cells": [
  {
   "cell_type": "code",
   "execution_count": 10,
   "metadata": {},
   "outputs": [
    {
     "name": "stdout",
     "output_type": "stream",
     "text": [
      "Requirement already satisfied: flatten-dict in c:\\users\\ibrah\\anaconda3\\lib\\site-packages (0.4.0)\n",
      "Requirement already satisfied: six<2.0,>=1.12 in c:\\users\\ibrah\\anaconda3\\lib\\site-packages (from flatten-dict) (1.15.0)\n"
     ]
    }
   ],
   "source": [
    "!pip install flatten-dict\n"
   ]
  },
  {
   "cell_type": "code",
   "execution_count": 14,
   "metadata": {},
   "outputs": [],
   "source": [
    "from flatten_dict import flatten\n",
    "from pprint import pprint"
   ]
  },
  {
   "cell_type": "markdown",
   "metadata": {},
   "source": [
    "\n",
    "# Soru 1 Çözümü"
   ]
  },
  {
   "cell_type": "code",
   "execution_count": 38,
   "metadata": {},
   "outputs": [],
   "source": [
    "\n",
    "def flatten(L):\n",
    "    \n",
    "    if len(L) == 1:\n",
    "        \n",
    "            if type(L[0]) == list:\n",
    "                \n",
    "                    result = flatten(L[0])\n",
    "                    \n",
    "            else:\n",
    "                \n",
    "                    result = L\n",
    "                \n",
    "    elif type(L[0]) == list:\n",
    "        \n",
    "            result = flatten(L[0]) + flatten(L[1:])\n",
    "            \n",
    "    else:\n",
    "        \n",
    "            result = [L[0]] + flatten(L[1:])\n",
    "        \n",
    "    return result"
   ]
  },
  {
   "cell_type": "code",
   "execution_count": 42,
   "metadata": {},
   "outputs": [
    {
     "name": "stdout",
     "output_type": "stream",
     "text": [
      "[1, 'a', 'cat', 2, 3, 'dog', 4, 5]\n"
     ]
    }
   ],
   "source": [
    "l=[[1,'a',['cat'],2],[[[3]],'dog'],4,5]\n",
    "print(flatten(l))"
   ]
  },
  {
   "cell_type": "code",
   "execution_count": null,
   "metadata": {},
   "outputs": [],
   "source": []
  },
  {
   "cell_type": "markdown",
   "metadata": {},
   "source": [
    "# Soru 2 Çözümü"
   ]
  },
  {
   "cell_type": "code",
   "execution_count": 43,
   "metadata": {},
   "outputs": [
    {
     "name": "stdout",
     "output_type": "stream",
     "text": [
      "[15, 14, 13, 12, 11, 10]\n"
     ]
    }
   ],
   "source": [
    "\n",
    "def Ters(lst): \n",
    "    lst.reverse() \n",
    "    return lst \n",
    "      \n",
    "lst = [10, 11, 12, 13, 14, 15] \n",
    "print(Ters(lst))"
   ]
  },
  {
   "cell_type": "code",
   "execution_count": null,
   "metadata": {},
   "outputs": [],
   "source": []
  }
 ],
 "metadata": {
  "kernelspec": {
   "display_name": "Python 3",
   "language": "python",
   "name": "python3"
  },
  "language_info": {
   "codemirror_mode": {
    "name": "ipython",
    "version": 3
   },
   "file_extension": ".py",
   "mimetype": "text/x-python",
   "name": "python",
   "nbconvert_exporter": "python",
   "pygments_lexer": "ipython3",
   "version": "3.8.5"
  }
 },
 "nbformat": 4,
 "nbformat_minor": 4
}

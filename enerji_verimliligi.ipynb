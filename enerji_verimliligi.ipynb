{
 "cells": [
  {
   "cell_type": "code",
   "execution_count": 39,
   "metadata": {},
   "outputs": [],
   "source": [
    "import numpy as np\n",
    "import pandas as pd\n",
    "from sklearn.model_selection import train_test_split,GridSearchCV\n",
    "from sklearn.metrics import mean_squared_error,r2_score\n",
    "import matplotlib.pyplot as plt\n",
    "from sklearn.preprocessing import scale\n",
    "from sklearn.preprocessing import StandardScaler\n",
    "from sklearn import model_selection\n",
    "from sklearn.linear_model import LinearRegression\n",
    "from sklearn.tree import DecisionTreeRegressor\n",
    "from sklearn.neighbors import KNeighborsRegressor\n",
    "from sklearn.neural_network import MLPRegressor\n",
    "from sklearn.ensemble import RandomForestRegressor\n",
    "from sklearn.ensemble import GradientBoostingRegressor\n",
    "from sklearn import neighbors\n",
    "from sklearn.svm import SVR\n",
    "from lightgbm import LGBMRegressor\n",
    "from xgboost import XGBRegressor"
   ]
  },
  {
   "cell_type": "markdown",
   "metadata": {},
   "source": [
    "# Amaç Bu veriye dayanarak binanın ısıtma ve soğutma yükünü tahmin etmek amaçlanmaktadır. "
   ]
  },
  {
   "cell_type": "code",
   "execution_count": null,
   "metadata": {},
   "outputs": [],
   "source": []
  },
  {
   "cell_type": "code",
   "execution_count": 43,
   "metadata": {},
   "outputs": [],
   "source": [
    "from warnings import filterwarnings\n",
    "filterwarnings('ignore')"
   ]
  },
  {
   "cell_type": "code",
   "execution_count": 44,
   "metadata": {},
   "outputs": [
    {
     "data": {
      "text/html": [
       "<div>\n",
       "<style scoped>\n",
       "    .dataframe tbody tr th:only-of-type {\n",
       "        vertical-align: middle;\n",
       "    }\n",
       "\n",
       "    .dataframe tbody tr th {\n",
       "        vertical-align: top;\n",
       "    }\n",
       "\n",
       "    .dataframe thead th {\n",
       "        text-align: right;\n",
       "    }\n",
       "</style>\n",
       "<table border=\"1\" class=\"dataframe\">\n",
       "  <thead>\n",
       "    <tr style=\"text-align: right;\">\n",
       "      <th></th>\n",
       "      <th>X1</th>\n",
       "      <th>X2</th>\n",
       "      <th>X3</th>\n",
       "      <th>X4</th>\n",
       "      <th>X5</th>\n",
       "      <th>X6</th>\n",
       "      <th>X7</th>\n",
       "      <th>X8</th>\n",
       "      <th>Y1</th>\n",
       "      <th>Y2</th>\n",
       "    </tr>\n",
       "  </thead>\n",
       "  <tbody>\n",
       "    <tr>\n",
       "      <th>0</th>\n",
       "      <td>0.98</td>\n",
       "      <td>514.5</td>\n",
       "      <td>294.0</td>\n",
       "      <td>110.25</td>\n",
       "      <td>7.0</td>\n",
       "      <td>2</td>\n",
       "      <td>0.0</td>\n",
       "      <td>0</td>\n",
       "      <td>15.55</td>\n",
       "      <td>21.33</td>\n",
       "    </tr>\n",
       "    <tr>\n",
       "      <th>1</th>\n",
       "      <td>0.98</td>\n",
       "      <td>514.5</td>\n",
       "      <td>294.0</td>\n",
       "      <td>110.25</td>\n",
       "      <td>7.0</td>\n",
       "      <td>3</td>\n",
       "      <td>0.0</td>\n",
       "      <td>0</td>\n",
       "      <td>15.55</td>\n",
       "      <td>21.33</td>\n",
       "    </tr>\n",
       "    <tr>\n",
       "      <th>2</th>\n",
       "      <td>0.98</td>\n",
       "      <td>514.5</td>\n",
       "      <td>294.0</td>\n",
       "      <td>110.25</td>\n",
       "      <td>7.0</td>\n",
       "      <td>4</td>\n",
       "      <td>0.0</td>\n",
       "      <td>0</td>\n",
       "      <td>15.55</td>\n",
       "      <td>21.33</td>\n",
       "    </tr>\n",
       "    <tr>\n",
       "      <th>3</th>\n",
       "      <td>0.98</td>\n",
       "      <td>514.5</td>\n",
       "      <td>294.0</td>\n",
       "      <td>110.25</td>\n",
       "      <td>7.0</td>\n",
       "      <td>5</td>\n",
       "      <td>0.0</td>\n",
       "      <td>0</td>\n",
       "      <td>15.55</td>\n",
       "      <td>21.33</td>\n",
       "    </tr>\n",
       "    <tr>\n",
       "      <th>4</th>\n",
       "      <td>0.90</td>\n",
       "      <td>563.5</td>\n",
       "      <td>318.5</td>\n",
       "      <td>122.50</td>\n",
       "      <td>7.0</td>\n",
       "      <td>2</td>\n",
       "      <td>0.0</td>\n",
       "      <td>0</td>\n",
       "      <td>20.84</td>\n",
       "      <td>28.28</td>\n",
       "    </tr>\n",
       "  </tbody>\n",
       "</table>\n",
       "</div>"
      ],
      "text/plain": [
       "     X1     X2     X3      X4   X5  X6   X7  X8     Y1     Y2\n",
       "0  0.98  514.5  294.0  110.25  7.0   2  0.0   0  15.55  21.33\n",
       "1  0.98  514.5  294.0  110.25  7.0   3  0.0   0  15.55  21.33\n",
       "2  0.98  514.5  294.0  110.25  7.0   4  0.0   0  15.55  21.33\n",
       "3  0.98  514.5  294.0  110.25  7.0   5  0.0   0  15.55  21.33\n",
       "4  0.90  563.5  318.5  122.50  7.0   2  0.0   0  20.84  28.28"
      ]
     },
     "execution_count": 44,
     "metadata": {},
     "output_type": "execute_result"
    }
   ],
   "source": [
    "df=pd.read_csv('enerji_data.csv')\n",
    "df.head()\n",
    "#X1 Bağıl Kompaktlık\n",
    "#X2 Yüzey Alanı\n",
    "#X3 Duvar Alanı\n",
    "#X4 Çatı Alanı\n",
    "#X5 Toplam Yükseklik\n",
    "#X6 Yönlendirme\n",
    "#X7 Cam Alanı\n",
    "#X8 Cam Alanı Dağılımı\n",
    "#y1 Isıtma Yükü\n",
    "#y2 Soğutma Yükü\n",
    "\n"
   ]
  },
  {
   "cell_type": "code",
   "execution_count": null,
   "metadata": {},
   "outputs": [],
   "source": []
  },
  {
   "cell_type": "code",
   "execution_count": 45,
   "metadata": {},
   "outputs": [
    {
     "name": "stdout",
     "output_type": "stream",
     "text": [
      "<class 'pandas.core.frame.DataFrame'>\n",
      "RangeIndex: 768 entries, 0 to 767\n",
      "Data columns (total 10 columns):\n",
      " #   Column  Non-Null Count  Dtype  \n",
      "---  ------  --------------  -----  \n",
      " 0   X1      768 non-null    float64\n",
      " 1   X2      768 non-null    float64\n",
      " 2   X3      768 non-null    float64\n",
      " 3   X4      768 non-null    float64\n",
      " 4   X5      768 non-null    float64\n",
      " 5   X6      768 non-null    int64  \n",
      " 6   X7      768 non-null    float64\n",
      " 7   X8      768 non-null    int64  \n",
      " 8   Y1      768 non-null    float64\n",
      " 9   Y2      768 non-null    float64\n",
      "dtypes: float64(8), int64(2)\n",
      "memory usage: 60.1 KB\n"
     ]
    }
   ],
   "source": [
    "df.info()"
   ]
  },
  {
   "cell_type": "code",
   "execution_count": 46,
   "metadata": {},
   "outputs": [
    {
     "data": {
      "text/plain": [
       "X1    0\n",
       "X2    0\n",
       "X3    0\n",
       "X4    0\n",
       "X5    0\n",
       "X6    0\n",
       "X7    0\n",
       "X8    0\n",
       "Y1    0\n",
       "Y2    0\n",
       "dtype: int64"
      ]
     },
     "execution_count": 46,
     "metadata": {},
     "output_type": "execute_result"
    }
   ],
   "source": [
    "df.isnull().sum()"
   ]
  },
  {
   "cell_type": "code",
   "execution_count": 62,
   "metadata": {},
   "outputs": [],
   "source": [
    "\n",
    "# y ise bağımlı değişken\n",
    "y=df['Y1']\n",
    "#dummy sonrasında değişkenleri bağımlı olanı da siliyoruz.\n",
    "X_=df.drop(['Y1'],axis=1).astype('float64')\n",
    "# orjinal veri seti ile oluşturduğumuz dummyleri bir araya getirdik.\n",
    "X=pd.concat([X_[['X4','X3','X2']]],axis=1)"
   ]
  },
  {
   "cell_type": "code",
   "execution_count": 63,
   "metadata": {},
   "outputs": [],
   "source": [
    "X_train,X_test,y_train,y_test=train_test_split(X,\n",
    "                                               y,\n",
    "                                            test_size=0.25,\n",
    "                                              random_state=42)"
   ]
  },
  {
   "cell_type": "code",
   "execution_count": 78,
   "metadata": {},
   "outputs": [],
   "source": [
    "rf_model= RandomForestRegressor(random_state=42).fit(X_train,y_train)"
   ]
  },
  {
   "cell_type": "code",
   "execution_count": 65,
   "metadata": {},
   "outputs": [
    {
     "data": {
      "text/plain": [
       "3.0924464915740497"
      ]
     },
     "execution_count": 65,
     "metadata": {},
     "output_type": "execute_result"
    }
   ],
   "source": [
    "y_pred=rf_model.predict(X_test)\n",
    "np.sqrt(mean_squared_error(y_test,y_pred))"
   ]
  },
  {
   "cell_type": "code",
   "execution_count": 73,
   "metadata": {},
   "outputs": [],
   "source": [
    "rf_params={\"max_depth\": [5,8,10],\n",
    "            \"max_features\":[1,2,5,10],\n",
    "            \"n_estimators\":[200,500,1000,2000],\n",
    "            \"min_samples_split\":[2,10,80,100]}"
   ]
  },
  {
   "cell_type": "code",
   "execution_count": 74,
   "metadata": {},
   "outputs": [
    {
     "name": "stdout",
     "output_type": "stream",
     "text": [
      "Fitting 10 folds for each of 192 candidates, totalling 1920 fits\n"
     ]
    },
    {
     "name": "stderr",
     "output_type": "stream",
     "text": [
      "[Parallel(n_jobs=-1)]: Using backend LokyBackend with 8 concurrent workers.\n",
      "[Parallel(n_jobs=-1)]: Done  25 tasks      | elapsed:    3.0s\n",
      "[Parallel(n_jobs=-1)]: Done 146 tasks      | elapsed:   28.6s\n",
      "[Parallel(n_jobs=-1)]: Done 349 tasks      | elapsed:  1.1min\n",
      "[Parallel(n_jobs=-1)]: Done 632 tasks      | elapsed:  1.5min\n",
      "[Parallel(n_jobs=-1)]: Done 997 tasks      | elapsed:  2.7min\n",
      "[Parallel(n_jobs=-1)]: Done 1442 tasks      | elapsed:  3.6min\n",
      "[Parallel(n_jobs=-1)]: Done 1920 out of 1920 | elapsed:  4.6min finished\n"
     ]
    }
   ],
   "source": [
    "rf_cv_model=GridSearchCV(rf_model,rf_params,cv=10,n_jobs=-1,verbose=2).fit(X_train,y_train)"
   ]
  },
  {
   "cell_type": "code",
   "execution_count": 75,
   "metadata": {},
   "outputs": [
    {
     "data": {
      "text/plain": [
       "{'max_depth': 5,\n",
       " 'max_features': 2,\n",
       " 'min_samples_split': 2,\n",
       " 'n_estimators': 1000}"
      ]
     },
     "execution_count": 75,
     "metadata": {},
     "output_type": "execute_result"
    }
   ],
   "source": [
    "rf_cv_model.best_params_"
   ]
  },
  {
   "cell_type": "code",
   "execution_count": 76,
   "metadata": {},
   "outputs": [],
   "source": [
    "rf_params={\"max_depth\": [5],\n",
    "            \"max_features\":[2],\n",
    "            \"n_estimators\":[1000],\n",
    "            \"min_samples_split\":[2]}"
   ]
  },
  {
   "cell_type": "code",
   "execution_count": 81,
   "metadata": {},
   "outputs": [
    {
     "data": {
      "text/plain": [
       "array([14.2027138 , 12.9943361 , 27.56103696, 38.44583199, 16.36861439,\n",
       "       25.62116798, 27.56103696, 27.56103696, 16.36861439, 31.68491325,\n",
       "       16.36861439, 35.88879606, 31.68491325, 11.7476525 , 16.36861439,\n",
       "       35.88879606, 35.88879606, 11.7476525 , 12.38219026, 35.88879606,\n",
       "       25.62116798, 38.44583199, 12.9943361 , 38.44583199, 16.36861439,\n",
       "       38.44583199, 31.68491325, 25.62116798, 16.36861439, 14.2027138 ,\n",
       "       11.7476525 , 11.7476525 , 16.36861439, 25.62116798, 38.44583199,\n",
       "       27.56103696, 27.56103696, 38.44583199, 31.68491325, 12.38219026,\n",
       "       27.56103696, 11.7476525 , 12.38219026, 28.52616244, 12.41148831,\n",
       "       12.38219026, 12.9943361 , 12.38219026, 28.52616244, 31.68491325,\n",
       "       31.68491325, 12.9943361 , 12.9943361 , 38.44583199, 12.38219026,\n",
       "       16.36861439, 11.7476525 , 25.62116798, 35.88879606, 35.88879606,\n",
       "       12.41148831, 14.2027138 , 12.9943361 , 25.62116798, 27.56103696,\n",
       "       38.44583199, 38.44583199, 12.9943361 , 14.2027138 , 11.7476525 ,\n",
       "       31.68491325, 27.56103696, 12.41148831, 25.62116798, 28.52616244,\n",
       "       11.7476525 , 25.62116798, 25.62116798, 27.56103696, 28.52616244,\n",
       "       27.56103696, 38.44583199, 12.38219026, 14.2027138 , 12.9943361 ,\n",
       "       12.38219026, 28.52616244, 35.88879606, 38.44583199, 16.36861439,\n",
       "       16.36861439, 25.62116798, 12.41148831, 12.9943361 , 35.88879606,\n",
       "       12.9943361 , 28.52616244, 28.52616244, 12.38219026, 12.38219026,\n",
       "       35.88879606, 27.56103696, 11.7476525 , 31.68491325, 28.52616244,\n",
       "       14.2027138 , 25.62116798, 14.2027138 , 12.41148831, 11.7476525 ,\n",
       "       35.88879606, 28.52616244, 27.56103696, 12.9943361 , 11.7476525 ,\n",
       "       12.38219026, 12.41148831, 11.7476525 , 12.41148831, 31.68491325,\n",
       "       31.68491325, 12.41148831, 35.88879606, 14.2027138 , 31.68491325,\n",
       "       16.36861439, 12.41148831, 38.44583199, 27.56103696, 35.88879606,\n",
       "       27.56103696, 35.88879606, 14.2027138 , 11.7476525 , 12.38219026,\n",
       "       16.36861439, 28.52616244, 38.44583199, 11.7476525 , 16.36861439,\n",
       "       12.38219026, 35.88879606, 27.56103696, 31.68491325, 31.68491325,\n",
       "       12.9943361 , 11.7476525 , 31.68491325, 31.68491325, 38.44583199,\n",
       "       31.68491325, 28.52616244, 28.52616244, 12.38219026, 25.62116798,\n",
       "       16.36861439, 28.52616244, 31.68491325, 12.9943361 , 31.68491325,\n",
       "       31.68491325, 38.44583199, 14.2027138 , 16.36861439, 16.36861439,\n",
       "       16.36861439, 25.62116798, 35.88879606, 35.88879606, 12.41148831,\n",
       "       14.2027138 , 35.88879606, 11.7476525 , 27.56103696, 14.2027138 ,\n",
       "       38.44583199, 12.9943361 , 11.7476525 , 35.88879606, 35.88879606,\n",
       "       12.38219026, 12.41148831, 31.68491325, 11.7476525 , 31.68491325,\n",
       "       16.36861439, 27.56103696, 11.7476525 , 12.38219026, 38.44583199,\n",
       "       31.68491325, 12.9943361 ])"
      ]
     },
     "execution_count": 81,
     "metadata": {},
     "output_type": "execute_result"
    }
   ],
   "source": [
    "y_pred=rf_model.predict(X_test)\n",
    "y_pred"
   ]
  },
  {
   "cell_type": "code",
   "execution_count": 82,
   "metadata": {},
   "outputs": [
    {
     "data": {
      "text/plain": [
       "3.0924464915740497"
      ]
     },
     "execution_count": 82,
     "metadata": {},
     "output_type": "execute_result"
    }
   ],
   "source": [
    "np.sqrt(mean_squared_error(y_test,y_pred))"
   ]
  },
  {
   "cell_type": "code",
   "execution_count": null,
   "metadata": {},
   "outputs": [],
   "source": []
  }
 ],
 "metadata": {
  "kernelspec": {
   "display_name": "Python 3",
   "language": "python",
   "name": "python3"
  },
  "language_info": {
   "codemirror_mode": {
    "name": "ipython",
    "version": 3
   },
   "file_extension": ".py",
   "mimetype": "text/x-python",
   "name": "python",
   "nbconvert_exporter": "python",
   "pygments_lexer": "ipython3",
   "version": "3.8.5"
  }
 },
 "nbformat": 4,
 "nbformat_minor": 4
}
